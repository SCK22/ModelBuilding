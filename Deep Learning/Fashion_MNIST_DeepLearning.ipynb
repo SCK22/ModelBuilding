{
 "cells": [
  {
   "cell_type": "code",
   "execution_count": 1,
   "metadata": {},
   "outputs": [],
   "source": [
    "import numpy as np\n",
    "import pandas as pd"
   ]
  },
  {
   "cell_type": "markdown",
   "metadata": {},
   "source": [
    "Reading Data files and creating Dataframe"
   ]
  },
  {
   "cell_type": "code",
   "execution_count": 2,
   "metadata": {},
   "outputs": [],
   "source": [
    "df_train = pd.read_csv('fashion-mnist_train.csv')\n",
    "df_test = pd.read_csv('fashion-mnist_test.csv')"
   ]
  },
  {
   "cell_type": "markdown",
   "metadata": {},
   "source": [
    "Lets have a look at the data we just imported from CSV files"
   ]
  },
  {
   "cell_type": "code",
   "execution_count": 3,
   "metadata": {},
   "outputs": [
    {
     "data": {
      "text/html": [
       "<div>\n",
       "<style scoped>\n",
       "    .dataframe tbody tr th:only-of-type {\n",
       "        vertical-align: middle;\n",
       "    }\n",
       "\n",
       "    .dataframe tbody tr th {\n",
       "        vertical-align: top;\n",
       "    }\n",
       "\n",
       "    .dataframe thead th {\n",
       "        text-align: right;\n",
       "    }\n",
       "</style>\n",
       "<table border=\"1\" class=\"dataframe\">\n",
       "  <thead>\n",
       "    <tr style=\"text-align: right;\">\n",
       "      <th></th>\n",
       "      <th>label</th>\n",
       "      <th>pixel1</th>\n",
       "      <th>pixel2</th>\n",
       "      <th>pixel3</th>\n",
       "      <th>pixel4</th>\n",
       "      <th>pixel5</th>\n",
       "      <th>pixel6</th>\n",
       "      <th>pixel7</th>\n",
       "      <th>pixel8</th>\n",
       "      <th>pixel9</th>\n",
       "      <th>...</th>\n",
       "      <th>pixel775</th>\n",
       "      <th>pixel776</th>\n",
       "      <th>pixel777</th>\n",
       "      <th>pixel778</th>\n",
       "      <th>pixel779</th>\n",
       "      <th>pixel780</th>\n",
       "      <th>pixel781</th>\n",
       "      <th>pixel782</th>\n",
       "      <th>pixel783</th>\n",
       "      <th>pixel784</th>\n",
       "    </tr>\n",
       "  </thead>\n",
       "  <tbody>\n",
       "    <tr>\n",
       "      <th>0</th>\n",
       "      <td>2</td>\n",
       "      <td>0</td>\n",
       "      <td>0</td>\n",
       "      <td>0</td>\n",
       "      <td>0</td>\n",
       "      <td>0</td>\n",
       "      <td>0</td>\n",
       "      <td>0</td>\n",
       "      <td>0</td>\n",
       "      <td>0</td>\n",
       "      <td>...</td>\n",
       "      <td>0</td>\n",
       "      <td>0</td>\n",
       "      <td>0</td>\n",
       "      <td>0</td>\n",
       "      <td>0</td>\n",
       "      <td>0</td>\n",
       "      <td>0</td>\n",
       "      <td>0</td>\n",
       "      <td>0</td>\n",
       "      <td>0</td>\n",
       "    </tr>\n",
       "    <tr>\n",
       "      <th>1</th>\n",
       "      <td>9</td>\n",
       "      <td>0</td>\n",
       "      <td>0</td>\n",
       "      <td>0</td>\n",
       "      <td>0</td>\n",
       "      <td>0</td>\n",
       "      <td>0</td>\n",
       "      <td>0</td>\n",
       "      <td>0</td>\n",
       "      <td>0</td>\n",
       "      <td>...</td>\n",
       "      <td>0</td>\n",
       "      <td>0</td>\n",
       "      <td>0</td>\n",
       "      <td>0</td>\n",
       "      <td>0</td>\n",
       "      <td>0</td>\n",
       "      <td>0</td>\n",
       "      <td>0</td>\n",
       "      <td>0</td>\n",
       "      <td>0</td>\n",
       "    </tr>\n",
       "    <tr>\n",
       "      <th>2</th>\n",
       "      <td>6</td>\n",
       "      <td>0</td>\n",
       "      <td>0</td>\n",
       "      <td>0</td>\n",
       "      <td>0</td>\n",
       "      <td>0</td>\n",
       "      <td>0</td>\n",
       "      <td>0</td>\n",
       "      <td>5</td>\n",
       "      <td>0</td>\n",
       "      <td>...</td>\n",
       "      <td>0</td>\n",
       "      <td>0</td>\n",
       "      <td>0</td>\n",
       "      <td>30</td>\n",
       "      <td>43</td>\n",
       "      <td>0</td>\n",
       "      <td>0</td>\n",
       "      <td>0</td>\n",
       "      <td>0</td>\n",
       "      <td>0</td>\n",
       "    </tr>\n",
       "    <tr>\n",
       "      <th>3</th>\n",
       "      <td>0</td>\n",
       "      <td>0</td>\n",
       "      <td>0</td>\n",
       "      <td>0</td>\n",
       "      <td>1</td>\n",
       "      <td>2</td>\n",
       "      <td>0</td>\n",
       "      <td>0</td>\n",
       "      <td>0</td>\n",
       "      <td>0</td>\n",
       "      <td>...</td>\n",
       "      <td>3</td>\n",
       "      <td>0</td>\n",
       "      <td>0</td>\n",
       "      <td>0</td>\n",
       "      <td>0</td>\n",
       "      <td>1</td>\n",
       "      <td>0</td>\n",
       "      <td>0</td>\n",
       "      <td>0</td>\n",
       "      <td>0</td>\n",
       "    </tr>\n",
       "    <tr>\n",
       "      <th>4</th>\n",
       "      <td>3</td>\n",
       "      <td>0</td>\n",
       "      <td>0</td>\n",
       "      <td>0</td>\n",
       "      <td>0</td>\n",
       "      <td>0</td>\n",
       "      <td>0</td>\n",
       "      <td>0</td>\n",
       "      <td>0</td>\n",
       "      <td>0</td>\n",
       "      <td>...</td>\n",
       "      <td>0</td>\n",
       "      <td>0</td>\n",
       "      <td>0</td>\n",
       "      <td>0</td>\n",
       "      <td>0</td>\n",
       "      <td>0</td>\n",
       "      <td>0</td>\n",
       "      <td>0</td>\n",
       "      <td>0</td>\n",
       "      <td>0</td>\n",
       "    </tr>\n",
       "  </tbody>\n",
       "</table>\n",
       "<p>5 rows × 785 columns</p>\n",
       "</div>"
      ],
      "text/plain": [
       "   label  pixel1  pixel2  pixel3  pixel4  pixel5  pixel6  pixel7  pixel8  \\\n",
       "0      2       0       0       0       0       0       0       0       0   \n",
       "1      9       0       0       0       0       0       0       0       0   \n",
       "2      6       0       0       0       0       0       0       0       5   \n",
       "3      0       0       0       0       1       2       0       0       0   \n",
       "4      3       0       0       0       0       0       0       0       0   \n",
       "\n",
       "   pixel9    ...     pixel775  pixel776  pixel777  pixel778  pixel779  \\\n",
       "0       0    ...            0         0         0         0         0   \n",
       "1       0    ...            0         0         0         0         0   \n",
       "2       0    ...            0         0         0        30        43   \n",
       "3       0    ...            3         0         0         0         0   \n",
       "4       0    ...            0         0         0         0         0   \n",
       "\n",
       "   pixel780  pixel781  pixel782  pixel783  pixel784  \n",
       "0         0         0         0         0         0  \n",
       "1         0         0         0         0         0  \n",
       "2         0         0         0         0         0  \n",
       "3         1         0         0         0         0  \n",
       "4         0         0         0         0         0  \n",
       "\n",
       "[5 rows x 785 columns]"
      ]
     },
     "execution_count": 3,
     "metadata": {},
     "output_type": "execute_result"
    }
   ],
   "source": [
    "df_train.head()"
   ]
  },
  {
   "cell_type": "markdown",
   "metadata": {},
   "source": [
    "These 784 columns are our input features which contains pixel values of 28 *28 images. Lets look at the shape of dataframes."
   ]
  },
  {
   "cell_type": "code",
   "execution_count": 4,
   "metadata": {},
   "outputs": [
    {
     "data": {
      "text/plain": [
       "(60000, 785)"
      ]
     },
     "execution_count": 4,
     "metadata": {},
     "output_type": "execute_result"
    }
   ],
   "source": [
    "df_train.shape"
   ]
  },
  {
   "cell_type": "code",
   "execution_count": 5,
   "metadata": {},
   "outputs": [
    {
     "data": {
      "text/plain": [
       "(10000, 785)"
      ]
     },
     "execution_count": 5,
     "metadata": {},
     "output_type": "execute_result"
    }
   ],
   "source": [
    "df_test.shape"
   ]
  },
  {
   "cell_type": "markdown",
   "metadata": {},
   "source": [
    "We have 60K samples in our training Dataset and 10K samples in test Dataset."
   ]
  },
  {
   "cell_type": "markdown",
   "metadata": {},
   "source": [
    "Let's check the labels by checking unique values in Label column"
   ]
  },
  {
   "cell_type": "code",
   "execution_count": 6,
   "metadata": {},
   "outputs": [
    {
     "data": {
      "text/plain": [
       "array([2, 9, 6, 0, 3, 4, 5, 8, 7, 1])"
      ]
     },
     "execution_count": 6,
     "metadata": {},
     "output_type": "execute_result"
    }
   ],
   "source": [
    "df_train.label.unique()"
   ]
  },
  {
   "cell_type": "markdown",
   "metadata": {},
   "source": [
    "So we have labels from 0 to 9 which means that we have 10 Catagories of clothing"
   ]
  },
  {
   "cell_type": "markdown",
   "metadata": {},
   "source": [
    "Lets prepare our training dataset"
   ]
  },
  {
   "cell_type": "code",
   "execution_count": 7,
   "metadata": {},
   "outputs": [],
   "source": [
    "x_train = df_train.drop('label',1)\n",
    "# print (x_train.head)"
   ]
  },
  {
   "cell_type": "markdown",
   "metadata": {},
   "source": [
    "Great, we have removed 'Label' column and took rest of the columns as training samples. Label column is our target."
   ]
  },
  {
   "cell_type": "markdown",
   "metadata": {},
   "source": [
    "Let's prepare our target dataset"
   ]
  },
  {
   "cell_type": "code",
   "execution_count": 8,
   "metadata": {},
   "outputs": [
    {
     "name": "stdout",
     "output_type": "stream",
     "text": [
      "0    2\n",
      "1    9\n",
      "2    6\n",
      "3    0\n",
      "4    3\n",
      "5    4\n",
      "6    4\n",
      "7    5\n",
      "8    4\n",
      "9    8\n",
      "Name: label, dtype: int64\n"
     ]
    }
   ],
   "source": [
    "y_train = df_train['label']\n",
    "print (y_train.head(10))"
   ]
  },
  {
   "cell_type": "code",
   "execution_count": 9,
   "metadata": {},
   "outputs": [
    {
     "name": "stdout",
     "output_type": "stream",
     "text": [
      "<class 'pandas.core.frame.DataFrame'>\n",
      "<class 'pandas.core.frame.DataFrame'>\n"
     ]
    }
   ],
   "source": [
    "print (type(df_train))\n",
    "print (type(df_train))"
   ]
  },
  {
   "cell_type": "markdown",
   "metadata": {},
   "source": [
    "**Keras is a Neural Network Library build in Python. Keras works on top of 'TensorFlow' (also works with 'CNTK' and 'Theano').**"
   ]
  },
  {
   "cell_type": "markdown",
   "metadata": {},
   "source": [
    "Keras accepts tensors as input, we have to convert our data into matrix format before proceeding."
   ]
  },
  {
   "cell_type": "code",
   "execution_count": 10,
   "metadata": {},
   "outputs": [
    {
     "name": "stdout",
     "output_type": "stream",
     "text": [
      "<type 'numpy.ndarray'>\n",
      "(60000, 784)\n"
     ]
    }
   ],
   "source": [
    "x_train = x_train.as_matrix()\n",
    "print (type(x_train))\n",
    "print (x_train.shape)"
   ]
  },
  {
   "cell_type": "code",
   "execution_count": 11,
   "metadata": {},
   "outputs": [
    {
     "name": "stdout",
     "output_type": "stream",
     "text": [
      "<type 'numpy.ndarray'>\n",
      "(60000,)\n"
     ]
    }
   ],
   "source": [
    "y_train = y_train.as_matrix()\n",
    "print (type(y_train))\n",
    "print (y_train.shape)"
   ]
  },
  {
   "cell_type": "markdown",
   "metadata": {},
   "source": [
    "Let us create a validation set , to check if our model is over fitting or underfitting."
   ]
  },
  {
   "cell_type": "code",
   "execution_count": 12,
   "metadata": {},
   "outputs": [],
   "source": [
    "x_train_partial = x_train[:40000]\n",
    "x_train_val = x_train[40000:]\n",
    "y_train_partial = y_train[:40000]\n",
    "y_train_val = y_train[40000:]"
   ]
  },
  {
   "cell_type": "markdown",
   "metadata": {},
   "source": [
    "### Setting some hyper parameters"
   ]
  },
  {
   "cell_type": "code",
   "execution_count": 13,
   "metadata": {},
   "outputs": [
    {
     "data": {
      "text/plain": [
       "10"
      ]
     },
     "execution_count": 13,
     "metadata": {},
     "output_type": "execute_result"
    }
   ],
   "source": [
    "n_classes = len(np.unique(y_train))\n",
    "n_classes"
   ]
  },
  {
   "cell_type": "code",
   "execution_count": 14,
   "metadata": {},
   "outputs": [
    {
     "data": {
      "text/plain": [
       "400"
      ]
     },
     "execution_count": 14,
     "metadata": {},
     "output_type": "execute_result"
    }
   ],
   "source": [
    "batch_size = int(x_train_partial.shape[0]*0.01)\n",
    "batch_size"
   ]
  },
  {
   "cell_type": "markdown",
   "metadata": {},
   "source": [
    "Since we are dealing with Multi - Category problem meaning we have 10 catagories against one example. This means that for every samples model will create 10 dimension Vector, which is nothing but a vector containing 10 values having probability distribution for 10 catagories. Therefore we need to convert our training labels to catagorial values. \n",
    "\n",
    "Again Keras will help us in performing these conversion. Let's see how!"
   ]
  },
  {
   "cell_type": "code",
   "execution_count": 15,
   "metadata": {},
   "outputs": [
    {
     "name": "stderr",
     "output_type": "stream",
     "text": [
      "/home/bglrgpuaccess/.local/lib/python2.7/site-packages/h5py/__init__.py:36: FutureWarning: Conversion of the second argument of issubdtype from `float` to `np.floating` is deprecated. In future, it will be treated as `np.float64 == np.dtype(float).type`.\n",
      "  from ._conv import register_converters as _register_converters\n",
      "Using TensorFlow backend.\n"
     ]
    }
   ],
   "source": [
    "from keras.utils.np_utils import to_categorical\n",
    "y_train_partial = to_categorical(y_train_partial)\n",
    "y_train_val = to_categorical(y_train_val)"
   ]
  },
  {
   "cell_type": "markdown",
   "metadata": {},
   "source": [
    "Let's Create our Neural Network Model"
   ]
  },
  {
   "cell_type": "markdown",
   "metadata": {},
   "source": [
    "## MLP"
   ]
  },
  {
   "cell_type": "code",
   "execution_count": 16,
   "metadata": {},
   "outputs": [],
   "source": [
    "from keras import models\n",
    "from keras import layers\n",
    "model = models.Sequential()\n",
    "model.add(layers.Dense(32,activation='relu',input_shape=(784,)))\n",
    "model.add(layers.Dense(32,activation='relu'))\n",
    "model.add(layers.Dense(32,activation='relu'))\n",
    "model.add(layers.Dense(32,activation='relu'))\n",
    "model.add(layers.Dense(32,activation='relu'))\n",
    "model.add(layers.Dense(n_classes,activation='softmax'))"
   ]
  },
  {
   "cell_type": "markdown",
   "metadata": {},
   "source": [
    "In above model, we have one Input layer and 5 hidden layers  The last layer is output layer which contains 10 neurons , as we have 10 classes in the porblem."
   ]
  },
  {
   "cell_type": "markdown",
   "metadata": {},
   "source": [
    "### Model summary"
   ]
  },
  {
   "cell_type": "code",
   "execution_count": 17,
   "metadata": {},
   "outputs": [
    {
     "name": "stdout",
     "output_type": "stream",
     "text": [
      "_________________________________________________________________\n",
      "Layer (type)                 Output Shape              Param #   \n",
      "=================================================================\n",
      "dense_1 (Dense)              (None, 32)                25120     \n",
      "_________________________________________________________________\n",
      "dense_2 (Dense)              (None, 32)                1056      \n",
      "_________________________________________________________________\n",
      "dense_3 (Dense)              (None, 32)                1056      \n",
      "_________________________________________________________________\n",
      "dense_4 (Dense)              (None, 32)                1056      \n",
      "_________________________________________________________________\n",
      "dense_5 (Dense)              (None, 32)                1056      \n",
      "_________________________________________________________________\n",
      "dense_6 (Dense)              (None, 10)                330       \n",
      "=================================================================\n",
      "Total params: 29,674\n",
      "Trainable params: 29,674\n",
      "Non-trainable params: 0\n",
      "_________________________________________________________________\n"
     ]
    }
   ],
   "source": [
    "model.summary()"
   ]
  },
  {
   "cell_type": "markdown",
   "metadata": {},
   "source": [
    "Time to Compile and run the model"
   ]
  },
  {
   "cell_type": "code",
   "execution_count": 18,
   "metadata": {},
   "outputs": [],
   "source": [
    "from keras.callbacks import EarlyStopping"
   ]
  },
  {
   "cell_type": "markdown",
   "metadata": {},
   "source": [
    "###### Earlystopping feature  helsp us define the models' learning process, we can set the model to stop training if the validation accuracy or validation loss does not change by a threshold for n epochs"
   ]
  },
  {
   "cell_type": "code",
   "execution_count": 19,
   "metadata": {},
   "outputs": [],
   "source": [
    "earlystop = EarlyStopping(monitor='val_acc', min_delta=0.001, patience=5, \\\n",
    "                          verbose=1, mode='auto')\n",
    "callbacks_list = [earlystop]\n"
   ]
  },
  {
   "cell_type": "code",
   "execution_count": 20,
   "metadata": {
    "collapsed": true
   },
   "outputs": [
    {
     "name": "stdout",
     "output_type": "stream",
     "text": [
      "WARNING:tensorflow:From /usr/lib64/python2.7/site-packages/keras/backend/tensorflow_backend.py:2745: calling reduce_sum (from tensorflow.python.ops.math_ops) with keep_dims is deprecated and will be removed in a future version.\n",
      "Instructions for updating:\n",
      "keep_dims is deprecated, use keepdims instead\n",
      "WARNING:tensorflow:From /usr/lib64/python2.7/site-packages/keras/backend/tensorflow_backend.py:1299: calling reduce_mean (from tensorflow.python.ops.math_ops) with keep_dims is deprecated and will be removed in a future version.\n",
      "Instructions for updating:\n",
      "keep_dims is deprecated, use keepdims instead\n",
      "Train on 40000 samples, validate on 20000 samples\n",
      "Epoch 1/50\n",
      "40000/40000 [==============================] - 3s - loss: 10.2028 - acc: 0.3235 - val_loss: 7.3399 - val_acc: 0.4592\n",
      "Epoch 2/50\n",
      "40000/40000 [==============================] - 1s - loss: 4.3147 - acc: 0.5353 - val_loss: 1.0164 - val_acc: 0.6449\n",
      "Epoch 3/50\n",
      "40000/40000 [==============================] - 1s - loss: 0.7565 - acc: 0.7217 - val_loss: 0.6808 - val_acc: 0.7539\n",
      "Epoch 4/50\n",
      "40000/40000 [==============================] - 1s - loss: 0.5997 - acc: 0.7773 - val_loss: 0.5908 - val_acc: 0.7897\n",
      "Epoch 5/50\n",
      "40000/40000 [==============================] - 1s - loss: 0.5368 - acc: 0.8017 - val_loss: 0.5393 - val_acc: 0.8097\n",
      "Epoch 6/50\n",
      "40000/40000 [==============================] - 1s - loss: 0.5013 - acc: 0.8166 - val_loss: 0.5386 - val_acc: 0.8124\n",
      "Epoch 7/50\n",
      "40000/40000 [==============================] - 1s - loss: 0.4829 - acc: 0.8229 - val_loss: 0.5104 - val_acc: 0.8197\n",
      "Epoch 8/50\n",
      "40000/40000 [==============================] - 1s - loss: 0.4551 - acc: 0.8336 - val_loss: 0.5039 - val_acc: 0.8233\n",
      "Epoch 9/50\n",
      "40000/40000 [==============================] - 1s - loss: 0.4464 - acc: 0.8353 - val_loss: 0.4962 - val_acc: 0.8277\n",
      "Epoch 10/50\n",
      "40000/40000 [==============================] - 1s - loss: 0.4277 - acc: 0.8422 - val_loss: 0.4821 - val_acc: 0.8336\n",
      "Epoch 11/50\n",
      "40000/40000 [==============================] - 1s - loss: 0.4155 - acc: 0.8463 - val_loss: 0.4645 - val_acc: 0.8411\n",
      "Epoch 12/50\n",
      "40000/40000 [==============================] - 1s - loss: 0.4015 - acc: 0.8520 - val_loss: 0.4725 - val_acc: 0.8380\n",
      "Epoch 13/50\n",
      "40000/40000 [==============================] - 1s - loss: 0.4029 - acc: 0.8519 - val_loss: 0.4618 - val_acc: 0.8408\n",
      "Epoch 14/50\n",
      "40000/40000 [==============================] - 1s - loss: 0.3915 - acc: 0.8565 - val_loss: 0.4519 - val_acc: 0.8451\n",
      "Epoch 15/50\n",
      "40000/40000 [==============================] - 1s - loss: 0.3791 - acc: 0.8620 - val_loss: 0.4510 - val_acc: 0.8444\n",
      "Epoch 16/50\n",
      "40000/40000 [==============================] - 1s - loss: 0.3744 - acc: 0.8627 - val_loss: 0.4475 - val_acc: 0.8450\n",
      "Epoch 17/50\n",
      "40000/40000 [==============================] - 1s - loss: 0.3747 - acc: 0.8626 - val_loss: 0.4508 - val_acc: 0.8457\n",
      "Epoch 18/50\n",
      "40000/40000 [==============================] - 1s - loss: 0.3661 - acc: 0.8653 - val_loss: 0.4386 - val_acc: 0.8504\n",
      "Epoch 19/50\n",
      "40000/40000 [==============================] - 1s - loss: 0.3594 - acc: 0.8686 - val_loss: 0.4494 - val_acc: 0.8427\n",
      "Epoch 20/50\n",
      "40000/40000 [==============================] - 1s - loss: 0.3504 - acc: 0.8725 - val_loss: 0.4400 - val_acc: 0.8489\n",
      "Epoch 21/50\n",
      "40000/40000 [==============================] - 1s - loss: 0.3520 - acc: 0.8698 - val_loss: 0.4306 - val_acc: 0.8530\n",
      "Epoch 22/50\n",
      "40000/40000 [==============================] - 1s - loss: 0.3438 - acc: 0.8739 - val_loss: 0.4359 - val_acc: 0.8535\n",
      "Epoch 23/50\n",
      "40000/40000 [==============================] - 1s - loss: 0.3405 - acc: 0.8756 - val_loss: 0.4443 - val_acc: 0.8519\n",
      "Epoch 24/50\n",
      "40000/40000 [==============================] - 1s - loss: 0.3381 - acc: 0.8759 - val_loss: 0.4441 - val_acc: 0.8511\n",
      "Epoch 25/50\n",
      "40000/40000 [==============================] - 1s - loss: 0.3422 - acc: 0.8745 - val_loss: 0.4282 - val_acc: 0.8543\n",
      "Epoch 26/50\n",
      "40000/40000 [==============================] - 1s - loss: 0.3309 - acc: 0.8784 - val_loss: 0.4478 - val_acc: 0.8462\n",
      "Epoch 27/50\n",
      "40000/40000 [==============================] - 1s - loss: 0.3235 - acc: 0.8806 - val_loss: 0.4247 - val_acc: 0.8580\n",
      "Epoch 28/50\n",
      "40000/40000 [==============================] - 1s - loss: 0.3200 - acc: 0.8823 - val_loss: 0.4412 - val_acc: 0.8528\n",
      "Epoch 29/50\n",
      "40000/40000 [==============================] - 1s - loss: 0.3209 - acc: 0.8818 - val_loss: 0.4461 - val_acc: 0.8540\n",
      "Epoch 30/50\n",
      "40000/40000 [==============================] - 1s - loss: 0.3192 - acc: 0.8822 - val_loss: 0.4570 - val_acc: 0.8495\n",
      "Epoch 31/50\n",
      "40000/40000 [==============================] - 1s - loss: 0.3099 - acc: 0.8858 - val_loss: 0.4404 - val_acc: 0.8535\n",
      "Epoch 32/50\n",
      "40000/40000 [==============================] - 1s - loss: 0.3073 - acc: 0.8872 - val_loss: 0.4320 - val_acc: 0.8583\n",
      "Epoch 33/50\n",
      "40000/40000 [==============================] - 1s - loss: 0.3094 - acc: 0.8856 - val_loss: 0.4315 - val_acc: 0.8566\n",
      "Epoch 00032: early stopping\n"
     ]
    }
   ],
   "source": [
    "model.compile(optimizer='adam',\n",
    "              loss='categorical_crossentropy',\n",
    "              metrics=['acc'])\n",
    "\n",
    "history = model.fit(x_train_partial,\n",
    "                    y_train_partial,\n",
    "                    epochs=50,\n",
    "                    batch_size=batch_size,\n",
    "                    callbacks=callbacks_list,\n",
    "                    validation_data=(x_train_val, y_train_val))"
   ]
  },
  {
   "cell_type": "raw",
   "metadata": {},
   "source": [
    "Seems like Validation accuracy is around 85% which means that our model has learnt well. But, lets visualize if really our model has learnt and generlize for unseen data"
   ]
  },
  {
   "cell_type": "markdown",
   "metadata": {},
   "source": [
    "I have tried with dropout but that led to poor model performance, meaning we are losing out on information by dropping out."
   ]
  },
  {
   "cell_type": "markdown",
   "metadata": {},
   "source": [
    "history object stores the member history as a dictionary . The details as to what happened during training."
   ]
  },
  {
   "cell_type": "markdown",
   "metadata": {},
   "source": [
    "###### Let us plot the training and validation loss "
   ]
  },
  {
   "cell_type": "code",
   "execution_count": 21,
   "metadata": {},
   "outputs": [
    {
     "data": {
      "image/png": "[encoded data removed]",
      "text/plain": [
       "<matplotlib.figure.Figure at 0x2447f510>"
      ]
     },
     "metadata": {},
     "output_type": "display_data"
    }
   ],
   "source": [
    "import matplotlib.pyplot as plt\n",
    "%matplotlib inline\n",
    "\n",
    "history_dict = history.history\n",
    "loss_values = history_dict['loss']\n",
    "val_loss_values = history_dict['val_loss']\n",
    "\n",
    "epochs = range(1,len(history.epoch)+1) # creating a range object for plotting on x axis\n",
    "\n",
    "plt.plot(epochs, loss_values, 'ro', label='Training loss')           \n",
    "plt.plot(epochs, val_loss_values, 'b--', label='Validation loss')      \n",
    "plt.title('Training and validation loss')\n",
    "plt.xlabel('Epochs')\n",
    "plt.ylabel('Loss')\n",
    "plt.legend()\n",
    "\n",
    "plt.show()"
   ]
  },
  {
   "cell_type": "markdown",
   "metadata": {},
   "source": [
    "From the graph we see that training loss consistently decreases and validation loss is in line with training loss."
   ]
  },
  {
   "cell_type": "code",
   "execution_count": 22,
   "metadata": {},
   "outputs": [],
   "source": [
    "###### Let us plot the training and validation accuracy "
   ]
  },
  {
   "cell_type": "code",
   "execution_count": 23,
   "metadata": {},
   "outputs": [
    {
     "data": {
      "image/png": "[encoded data removed]",
      "text/plain": [
       "<matplotlib.figure.Figure at 0x1b1f13d0>"
      ]
     },
     "metadata": {},
     "output_type": "display_data"
    }
   ],
   "source": [
    "acc_values = history_dict['acc']\n",
    "val_acc_values = history_dict['val_acc']\n",
    "\n",
    "plt.plot(epochs, acc_values, 'ro', label='Training acc')\n",
    "plt.plot(epochs, val_acc_values, 'b--', label='Validation acc')\n",
    "plt.title('Training and validation accuracy')\n",
    "plt.xlabel('Epochs')\n",
    "plt.ylabel('Loss')\n",
    "plt.legend()\n",
    "\n",
    "plt.show()"
   ]
  },
  {
   "cell_type": "markdown",
   "metadata": {},
   "source": [
    "We see that the training accuracy improved  consistently ,although the validation accuracy took a small hit in the process, it caught up eventually!"
   ]
  },
  {
   "cell_type": "markdown",
   "metadata": {},
   "source": [
    "###### Lets Apply this model to our Test dataset"
   ]
  },
  {
   "cell_type": "code",
   "execution_count": 24,
   "metadata": {},
   "outputs": [
    {
     "data": {
      "text/html": [
       "<div>\n",
       "<style scoped>\n",
       "    .dataframe tbody tr th:only-of-type {\n",
       "        vertical-align: middle;\n",
       "    }\n",
       "\n",
       "    .dataframe tbody tr th {\n",
       "        vertical-align: top;\n",
       "    }\n",
       "\n",
       "    .dataframe thead th {\n",
       "        text-align: right;\n",
       "    }\n",
       "</style>\n",
       "<table border=\"1\" class=\"dataframe\">\n",
       "  <thead>\n",
       "    <tr style=\"text-align: right;\">\n",
       "      <th></th>\n",
       "      <th>label</th>\n",
       "      <th>pixel1</th>\n",
       "      <th>pixel2</th>\n",
       "      <th>pixel3</th>\n",
       "      <th>pixel4</th>\n",
       "      <th>pixel5</th>\n",
       "      <th>pixel6</th>\n",
       "      <th>pixel7</th>\n",
       "      <th>pixel8</th>\n",
       "      <th>pixel9</th>\n",
       "      <th>...</th>\n",
       "      <th>pixel775</th>\n",
       "      <th>pixel776</th>\n",
       "      <th>pixel777</th>\n",
       "      <th>pixel778</th>\n",
       "      <th>pixel779</th>\n",
       "      <th>pixel780</th>\n",
       "      <th>pixel781</th>\n",
       "      <th>pixel782</th>\n",
       "      <th>pixel783</th>\n",
       "      <th>pixel784</th>\n",
       "    </tr>\n",
       "  </thead>\n",
       "  <tbody>\n",
       "    <tr>\n",
       "      <th>0</th>\n",
       "      <td>0</td>\n",
       "      <td>0</td>\n",
       "      <td>0</td>\n",
       "      <td>0</td>\n",
       "      <td>0</td>\n",
       "      <td>0</td>\n",
       "      <td>0</td>\n",
       "      <td>0</td>\n",
       "      <td>9</td>\n",
       "      <td>8</td>\n",
       "      <td>...</td>\n",
       "      <td>103</td>\n",
       "      <td>87</td>\n",
       "      <td>56</td>\n",
       "      <td>0</td>\n",
       "      <td>0</td>\n",
       "      <td>0</td>\n",
       "      <td>0</td>\n",
       "      <td>0</td>\n",
       "      <td>0</td>\n",
       "      <td>0</td>\n",
       "    </tr>\n",
       "    <tr>\n",
       "      <th>1</th>\n",
       "      <td>1</td>\n",
       "      <td>0</td>\n",
       "      <td>0</td>\n",
       "      <td>0</td>\n",
       "      <td>0</td>\n",
       "      <td>0</td>\n",
       "      <td>0</td>\n",
       "      <td>0</td>\n",
       "      <td>0</td>\n",
       "      <td>0</td>\n",
       "      <td>...</td>\n",
       "      <td>34</td>\n",
       "      <td>0</td>\n",
       "      <td>0</td>\n",
       "      <td>0</td>\n",
       "      <td>0</td>\n",
       "      <td>0</td>\n",
       "      <td>0</td>\n",
       "      <td>0</td>\n",
       "      <td>0</td>\n",
       "      <td>0</td>\n",
       "    </tr>\n",
       "    <tr>\n",
       "      <th>2</th>\n",
       "      <td>2</td>\n",
       "      <td>0</td>\n",
       "      <td>0</td>\n",
       "      <td>0</td>\n",
       "      <td>0</td>\n",
       "      <td>0</td>\n",
       "      <td>0</td>\n",
       "      <td>14</td>\n",
       "      <td>53</td>\n",
       "      <td>99</td>\n",
       "      <td>...</td>\n",
       "      <td>0</td>\n",
       "      <td>0</td>\n",
       "      <td>0</td>\n",
       "      <td>0</td>\n",
       "      <td>63</td>\n",
       "      <td>53</td>\n",
       "      <td>31</td>\n",
       "      <td>0</td>\n",
       "      <td>0</td>\n",
       "      <td>0</td>\n",
       "    </tr>\n",
       "    <tr>\n",
       "      <th>3</th>\n",
       "      <td>2</td>\n",
       "      <td>0</td>\n",
       "      <td>0</td>\n",
       "      <td>0</td>\n",
       "      <td>0</td>\n",
       "      <td>0</td>\n",
       "      <td>0</td>\n",
       "      <td>0</td>\n",
       "      <td>0</td>\n",
       "      <td>0</td>\n",
       "      <td>...</td>\n",
       "      <td>137</td>\n",
       "      <td>126</td>\n",
       "      <td>140</td>\n",
       "      <td>0</td>\n",
       "      <td>133</td>\n",
       "      <td>224</td>\n",
       "      <td>222</td>\n",
       "      <td>56</td>\n",
       "      <td>0</td>\n",
       "      <td>0</td>\n",
       "    </tr>\n",
       "    <tr>\n",
       "      <th>4</th>\n",
       "      <td>3</td>\n",
       "      <td>0</td>\n",
       "      <td>0</td>\n",
       "      <td>0</td>\n",
       "      <td>0</td>\n",
       "      <td>0</td>\n",
       "      <td>0</td>\n",
       "      <td>0</td>\n",
       "      <td>0</td>\n",
       "      <td>0</td>\n",
       "      <td>...</td>\n",
       "      <td>0</td>\n",
       "      <td>0</td>\n",
       "      <td>0</td>\n",
       "      <td>0</td>\n",
       "      <td>0</td>\n",
       "      <td>0</td>\n",
       "      <td>0</td>\n",
       "      <td>0</td>\n",
       "      <td>0</td>\n",
       "      <td>0</td>\n",
       "    </tr>\n",
       "  </tbody>\n",
       "</table>\n",
       "<p>5 rows × 785 columns</p>\n",
       "</div>"
      ],
      "text/plain": [
       "   label  pixel1  pixel2  pixel3  pixel4  pixel5  pixel6  pixel7  pixel8  \\\n",
       "0      0       0       0       0       0       0       0       0       9   \n",
       "1      1       0       0       0       0       0       0       0       0   \n",
       "2      2       0       0       0       0       0       0      14      53   \n",
       "3      2       0       0       0       0       0       0       0       0   \n",
       "4      3       0       0       0       0       0       0       0       0   \n",
       "\n",
       "   pixel9    ...     pixel775  pixel776  pixel777  pixel778  pixel779  \\\n",
       "0       8    ...          103        87        56         0         0   \n",
       "1       0    ...           34         0         0         0         0   \n",
       "2      99    ...            0         0         0         0        63   \n",
       "3       0    ...          137       126       140         0       133   \n",
       "4       0    ...            0         0         0         0         0   \n",
       "\n",
       "   pixel780  pixel781  pixel782  pixel783  pixel784  \n",
       "0         0         0         0         0         0  \n",
       "1         0         0         0         0         0  \n",
       "2        53        31         0         0         0  \n",
       "3       224       222        56         0         0  \n",
       "4         0         0         0         0         0  \n",
       "\n",
       "[5 rows x 785 columns]"
      ]
     },
     "execution_count": 24,
     "metadata": {},
     "output_type": "execute_result"
    }
   ],
   "source": [
    "df_test.head()"
   ]
  },
  {
   "cell_type": "code",
   "execution_count": 25,
   "metadata": {},
   "outputs": [
    {
     "data": {
      "text/plain": [
       "(10000, 785)"
      ]
     },
     "execution_count": 25,
     "metadata": {},
     "output_type": "execute_result"
    }
   ],
   "source": [
    "df_test.shape"
   ]
  },
  {
   "cell_type": "code",
   "execution_count": 26,
   "metadata": {},
   "outputs": [],
   "source": [
    "x_test = df_test.drop('label',1)\n",
    "y_test = df_test['label']\n",
    "x_test = x_test.as_matrix()\n",
    "y_test = y_test.as_matrix()"
   ]
  },
  {
   "cell_type": "code",
   "execution_count": 27,
   "metadata": {},
   "outputs": [
    {
     "name": "stdout",
     "output_type": "stream",
     "text": [
      "<type 'numpy.ndarray'>\n",
      "<type 'numpy.ndarray'>\n",
      "(10000, 784)\n",
      "(10000,)\n"
     ]
    }
   ],
   "source": [
    "print (type(x_test))\n",
    "print (type(y_test))\n",
    "print (x_test.shape)\n",
    "print (y_test.shape)"
   ]
  },
  {
   "cell_type": "markdown",
   "metadata": {},
   "source": [
    "We have to encode the test variable values to categorical again"
   ]
  },
  {
   "cell_type": "code",
   "execution_count": 28,
   "metadata": {},
   "outputs": [],
   "source": [
    "y_test = to_categorical(y_test)"
   ]
  },
  {
   "cell_type": "markdown",
   "metadata": {},
   "source": [
    "Time to evaluate our model on Test data!"
   ]
  },
  {
   "cell_type": "code",
   "execution_count": 29,
   "metadata": {},
   "outputs": [
    {
     "name": "stdout",
     "output_type": "stream",
     "text": [
      "10000/10000 [==============================] - 0s     \n"
     ]
    },
    {
     "data": {
      "text/plain": [
       "[0.4098224560499191, 0.8606]"
      ]
     },
     "execution_count": 29,
     "metadata": {},
     "output_type": "execute_result"
    }
   ],
   "source": [
    "results = model.evaluate(x_test,y_test)\n",
    "results"
   ]
  },
  {
   "cell_type": "markdown",
   "metadata": {},
   "source": [
    "Ok, we have 86.1 accuracy with test data! Which is close to the test and validation accuracies, so there is no over fitting."
   ]
  },
  {
   "cell_type": "markdown",
   "metadata": {},
   "source": [
    "We can try to improve this further by playing with the architeture. But here we will try implementing CNN"
   ]
  },
  {
   "cell_type": "markdown",
   "metadata": {},
   "source": [
    "#### CNN"
   ]
  },
  {
   "cell_type": "code",
   "execution_count": 30,
   "metadata": {},
   "outputs": [],
   "source": [
    "from __future__ import print_function\n",
    "import keras\n",
    "from keras.models import Sequential\n",
    "from keras.layers import Dense, Dropout, Flatten,initializers\n",
    "from keras.layers import Conv2D, MaxPooling2D\n",
    "from keras.callbacks import ModelCheckpoint\n",
    "from keras import backend as K"
   ]
  },
  {
   "cell_type": "code",
   "execution_count": 31,
   "metadata": {},
   "outputs": [],
   "source": [
    "batch_size = 512\n",
    "num_classes = 10"
   ]
  },
  {
   "cell_type": "code",
   "execution_count": 32,
   "metadata": {},
   "outputs": [],
   "source": [
    "# input image dimensions\n",
    "im_rows, im_cols = 28, 28"
   ]
  },
  {
   "cell_type": "code",
   "execution_count": 33,
   "metadata": {},
   "outputs": [],
   "source": [
    "x_train_partial = x_train[:40000]\n",
    "x_train_val = x_train[40000:]\n",
    "y_train_partial = y_train[:40000]\n",
    "y_train_val = y_train[40000:]"
   ]
  },
  {
   "cell_type": "code",
   "execution_count": 34,
   "metadata": {},
   "outputs": [],
   "source": [
    "# theano and tensorflow backends take the images differently , the code below is to handle that\n",
    "if K.image_data_format() == 'channels_first':\n",
    "    x_train_partial = x_train_partial.reshape(x_train_partial.shape[0], 1, im_rows, im_cols)\n",
    "    x_train_val = x_train_val.reshape(x_train_val.shape[0], 1, im_rows, im_cols)\n",
    "    x_test = x_test.reshape(x_test.shape[0], 1, im_rows, im_cols)\n",
    "    input_shape = (1, im_rows, im_cols)\n",
    "else:\n",
    "    x_train_partial = x_train_partial.reshape(x_train_partial.shape[0],  im_rows, im_cols,1)\n",
    "    x_train_val = x_train_val.reshape(x_train_val.shape[0], im_rows, im_cols,1)\n",
    "    x_test = x_test.reshape(x_test.shape[0], im_rows, im_cols,1)\n",
    "    input_shape = (im_rows, im_cols,1)"
   ]
  },
  {
   "cell_type": "code",
   "execution_count": 35,
   "metadata": {},
   "outputs": [
    {
     "name": "stdout",
     "output_type": "stream",
     "text": [
      "x_train shape: (40000, 28, 28, 1)\n",
      "40000 train samples\n",
      "x_train_partial shape: (20000, 28, 28, 1)\n",
      "20000 train validation samples\n",
      "x_test shape: (10000, 28, 28, 1)\n",
      "10000 test samples\n"
     ]
    }
   ],
   "source": [
    "x_train_partial = x_train_partial.astype('float32')\n",
    "x_train_val = x_train_val.astype('float32')\n",
    "x_test = x_test.astype('float32')\n",
    "\n",
    "# x_train_partial /= 255 # normalizing \n",
    "# x_train_partial /= 255 # normalizing \n",
    "# x_test /= 255 # normalizing\n",
    "\n",
    "print('x_train shape:', x_train_partial.shape)\n",
    "print(x_train_partial.shape[0], 'train samples')\n",
    "\n",
    "print('x_train_partial shape:', x_train_val.shape)\n",
    "print(x_train_val.shape[0], 'train validation samples')\n",
    "\n",
    "print('x_test shape:', x_test.shape)\n",
    "print(x_test.shape[0], 'test samples')\n"
   ]
  },
  {
   "cell_type": "code",
   "execution_count": 36,
   "metadata": {},
   "outputs": [],
   "source": [
    "# convert class vectors to binary class matrices\n",
    "y_train_partial = keras.utils.to_categorical(y_train_partial, num_classes)\n",
    "y_train_val = keras.utils.to_categorical(y_train_val, num_classes)\n",
    "y_test = keras.utils.to_categorical(y_test, num_classes)"
   ]
  },
  {
   "cell_type": "code",
   "execution_count": 37,
   "metadata": {},
   "outputs": [],
   "source": [
    "import gc"
   ]
  },
  {
   "cell_type": "code",
   "execution_count": 38,
   "metadata": {},
   "outputs": [
    {
     "data": {
      "text/plain": [
       "2942"
      ]
     },
     "execution_count": 38,
     "metadata": {},
     "output_type": "execute_result"
    }
   ],
   "source": [
    "gc.collect()"
   ]
  },
  {
   "cell_type": "code",
   "execution_count": 151,
   "metadata": {
    "scrolled": false
   },
   "outputs": [],
   "source": [
    "model = Sequential()\n",
    "model.add(Conv2D(16, kernel_size=(3, 3),\n",
    "                 activation='relu',\n",
    "                 input_shape=input_shape))\n",
    "# model.add(Conv2D(16, (3, 3), activation='relu'))\n",
    "model.add(MaxPooling2D(pool_size=(2, 2)))\n",
    "\n",
    "# model.add(Dropout(0.2))\n",
    "model.add(Flatten())\n",
    "\n",
    "model.add(Dense(64, activation='relu'))\n",
    "# model.add(Dropout(0.1))\n",
    "model.add(Dense(num_classes, activation='softmax'))"
   ]
  },
  {
   "cell_type": "code",
   "execution_count": 152,
   "metadata": {},
   "outputs": [],
   "source": [
    "earlystop_acc = EarlyStopping('val_acc', min_delta=0.001, patience=10, \\\n",
    "                          verbose=1, mode='auto')\n",
    "earlystop_val = EarlyStopping('val_loss', min_delta=0.001, patience=10, \\\n",
    "                          verbose=1, mode='auto')\n",
    "filepath=\"weights-improvement-{epoch:02d}-{val_acc:.2f}.hdf5\"\n",
    "checkpoint = ModelCheckpoint(filepath, monitor='val_acc', verbose=1, save_best_only=True, mode='max')\n",
    "callbacks_list = [earlystop_acc,earlystop_val,checkpoint]"
   ]
  },
  {
   "cell_type": "code",
   "execution_count": 153,
   "metadata": {},
   "outputs": [
    {
     "name": "stdout",
     "output_type": "stream",
     "text": [
      "_________________________________________________________________\n",
      "Layer (type)                 Output Shape              Param #   \n",
      "=================================================================\n",
      "conv2d_11 (Conv2D)           (None, 26, 26, 16)        160       \n",
      "_________________________________________________________________\n",
      "max_pooling2d_11 (MaxPooling (None, 13, 13, 16)        0         \n",
      "_________________________________________________________________\n",
      "flatten_11 (Flatten)         (None, 2704)              0         \n",
      "_________________________________________________________________\n",
      "dense_27 (Dense)             (None, 64)                173120    \n",
      "_________________________________________________________________\n",
      "dense_28 (Dense)             (None, 10)                650       \n",
      "=================================================================\n",
      "Total params: 173,930\n",
      "Trainable params: 173,930\n",
      "Non-trainable params: 0\n",
      "_________________________________________________________________\n"
     ]
    }
   ],
   "source": [
    "model.summary()"
   ]
  },
  {
   "cell_type": "markdown",
   "metadata": {},
   "source": [
    "https://keras.io/callbacks/"
   ]
  },
  {
   "cell_type": "markdown",
   "metadata": {},
   "source": [
    "mode: one of {auto, min, max}. If save_best_only=True, the decision to overwrite the current save file is made based on either the maximization or the minimization of the monitored quantity. For val_acc, this should be max, for val_loss this should be min, etc. In auto mode, the direction is automatically inferred from the name of the monitored quantity."
   ]
  },
  {
   "cell_type": "code",
   "execution_count": 154,
   "metadata": {},
   "outputs": [],
   "source": [
    "epochs =50"
   ]
  },
  {
   "cell_type": "code",
   "execution_count": 155,
   "metadata": {
    "scrolled": false
   },
   "outputs": [
    {
     "name": "stdout",
     "output_type": "stream",
     "text": [
      "Train on 40000 samples, validate on 20000 samples\n",
      "Epoch 1/50\n",
      "38912/40000 [============================>.] - ETA: 0s - loss: 10.6680 - acc: 0.3357Epoch 00000: val_acc improved from -inf to 0.37260, saving model to weights-improvement-00-0.37.hdf5\n",
      "40000/40000 [==============================] - 2s - loss: 10.6420 - acc: 0.3373 - val_loss: 10.0822 - val_acc: 0.3726\n",
      "Epoch 2/50\n",
      "39936/40000 [============================>.] - ETA: 0s - loss: 10.1012 - acc: 0.3719Epoch 00001: val_acc did not improve\n",
      "40000/40000 [==============================] - 1s - loss: 10.0988 - acc: 0.3721 - val_loss: 10.2390 - val_acc: 0.3637\n",
      "Epoch 3/50\n",
      "39936/40000 [============================>.] - ETA: 0s - loss: 10.0547 - acc: 0.3749Epoch 00002: val_acc improved from 0.37260 to 0.37930, saving model to weights-improvement-02-0.38.hdf5\n",
      "40000/40000 [==============================] - 1s - loss: 10.0523 - acc: 0.3751 - val_loss: 9.9837 - val_acc: 0.3793\n",
      "Epoch 4/50\n",
      "38400/40000 [===========================>..] - ETA: 0s - loss: 9.2585 - acc: 0.4207Epoch 00003: val_acc improved from 0.37930 to 0.48285, saving model to weights-improvement-03-0.48.hdf5\n",
      "40000/40000 [==============================] - 1s - loss: 9.2272 - acc: 0.4225 - val_loss: 8.1979 - val_acc: 0.4829\n",
      "Epoch 5/50\n",
      "39424/40000 [============================>.] - ETA: 0s - loss: 7.6103 - acc: 0.5147Epoch 00004: val_acc improved from 0.48285 to 0.55505, saving model to weights-improvement-04-0.56.hdf5\n",
      "40000/40000 [==============================] - 1s - loss: 7.5981 - acc: 0.5150 - val_loss: 6.6926 - val_acc: 0.5551\n",
      "Epoch 6/50\n",
      "37888/40000 [===========================>..] - ETA: 0s - loss: 3.7897 - acc: 0.6516Epoch 00005: val_acc improved from 0.55505 to 0.81215, saving model to weights-improvement-05-0.81.hdf5\n",
      "40000/40000 [==============================] - 1s - loss: 3.6191 - acc: 0.6597 - val_loss: 0.5623 - val_acc: 0.8122\n",
      "Epoch 7/50\n",
      "38912/40000 [============================>.] - ETA: 0s - loss: 0.4396 - acc: 0.8487Epoch 00006: val_acc improved from 0.81215 to 0.85865, saving model to weights-improvement-06-0.86.hdf5\n",
      "40000/40000 [==============================] - 1s - loss: 0.4377 - acc: 0.8494 - val_loss: 0.4106 - val_acc: 0.8587\n",
      "Epoch 8/50\n",
      "39424/40000 [============================>.] - ETA: 0s - loss: 0.3337 - acc: 0.8823Epoch 00007: val_acc improved from 0.85865 to 0.87010, saving model to weights-improvement-07-0.87.hdf5\n",
      "40000/40000 [==============================] - 1s - loss: 0.3336 - acc: 0.8822 - val_loss: 0.3768 - val_acc: 0.8701\n",
      "Epoch 9/50\n",
      "39424/40000 [============================>.] - ETA: 0s - loss: 0.2847 - acc: 0.8982Epoch 00008: val_acc improved from 0.87010 to 0.87685, saving model to weights-improvement-08-0.88.hdf5\n",
      "40000/40000 [==============================] - 1s - loss: 0.2842 - acc: 0.8984 - val_loss: 0.3614 - val_acc: 0.8769\n",
      "Epoch 10/50\n",
      "39424/40000 [============================>.] - ETA: 0s - loss: 0.2521 - acc: 0.9083Epoch 00009: val_acc improved from 0.87685 to 0.88295, saving model to weights-improvement-09-0.88.hdf5\n",
      "40000/40000 [==============================] - 1s - loss: 0.2509 - acc: 0.9088 - val_loss: 0.3462 - val_acc: 0.8830\n",
      "Epoch 11/50\n",
      "37888/40000 [===========================>..] - ETA: 0s - loss: 0.2228 - acc: 0.9201Epoch 00010: val_acc improved from 0.88295 to 0.88330, saving model to weights-improvement-10-0.88.hdf5\n",
      "40000/40000 [==============================] - 1s - loss: 0.2227 - acc: 0.9200 - val_loss: 0.3484 - val_acc: 0.8833\n",
      "Epoch 12/50\n",
      "37888/40000 [===========================>..] - ETA: 0s - loss: 0.2024 - acc: 0.9264Epoch 00011: val_acc improved from 0.88330 to 0.88440, saving model to weights-improvement-11-0.88.hdf5\n",
      "40000/40000 [==============================] - 1s - loss: 0.2018 - acc: 0.9267 - val_loss: 0.3443 - val_acc: 0.8844\n",
      "Epoch 13/50\n",
      "38912/40000 [============================>.] - ETA: 0s - loss: 0.1840 - acc: 0.9332Epoch 00012: val_acc improved from 0.88440 to 0.88635, saving model to weights-improvement-12-0.89.hdf5\n",
      "40000/40000 [==============================] - 1s - loss: 0.1847 - acc: 0.9330 - val_loss: 0.3502 - val_acc: 0.8863\n",
      "Epoch 14/50\n",
      "38912/40000 [============================>.] - ETA: 0s - loss: 0.1683 - acc: 0.9391Epoch 00013: val_acc did not improve\n",
      "40000/40000 [==============================] - 1s - loss: 0.1682 - acc: 0.9390 - val_loss: 0.3576 - val_acc: 0.8841\n",
      "Epoch 15/50\n",
      "39424/40000 [============================>.] - ETA: 0s - loss: 0.1581 - acc: 0.9431Epoch 00014: val_acc improved from 0.88635 to 0.88715, saving model to weights-improvement-14-0.89.hdf5\n",
      "40000/40000 [==============================] - 1s - loss: 0.1584 - acc: 0.9430 - val_loss: 0.3634 - val_acc: 0.8871\n",
      "Epoch 16/50\n",
      "38912/40000 [============================>.] - ETA: 0s - loss: 0.1425 - acc: 0.9496Epoch 00015: val_acc improved from 0.88715 to 0.88975, saving model to weights-improvement-15-0.89.hdf5\n",
      "40000/40000 [==============================] - 1s - loss: 0.1425 - acc: 0.9496 - val_loss: 0.3674 - val_acc: 0.8898\n",
      "Epoch 17/50\n",
      "38912/40000 [============================>.] - ETA: 0s - loss: 0.1308 - acc: 0.9532Epoch 00016: val_acc did not improve\n",
      "40000/40000 [==============================] - 1s - loss: 0.1313 - acc: 0.9531 - val_loss: 0.3729 - val_acc: 0.8898\n",
      "Epoch 18/50\n",
      "39936/40000 [============================>.] - ETA: 0s - loss: 0.1233 - acc: 0.9559Epoch 00017: val_acc improved from 0.88975 to 0.89050, saving model to weights-improvement-17-0.89.hdf5\n",
      "40000/40000 [==============================] - 1s - loss: 0.1232 - acc: 0.9560 - val_loss: 0.3863 - val_acc: 0.8905\n",
      "Epoch 19/50\n",
      "38912/40000 [============================>.] - ETA: 0s - loss: 0.1117 - acc: 0.9610Epoch 00018: val_acc did not improve\n",
      "40000/40000 [==============================] - 1s - loss: 0.1119 - acc: 0.9609 - val_loss: 0.3993 - val_acc: 0.8892\n",
      "Epoch 20/50\n",
      "38912/40000 [============================>.] - ETA: 0s - loss: 0.1082 - acc: 0.9615Epoch 00019: val_acc did not improve\n",
      "40000/40000 [==============================] - 1s - loss: 0.1079 - acc: 0.9616 - val_loss: 0.4083 - val_acc: 0.8865\n",
      "Epoch 21/50\n",
      "38912/40000 [============================>.] - ETA: 0s - loss: 0.0979 - acc: 0.9662Epoch 00020: val_acc did not improve\n",
      "40000/40000 [==============================] - 1s - loss: 0.0978 - acc: 0.9662 - val_loss: 0.4088 - val_acc: 0.8903\n",
      "Epoch 22/50\n",
      "37888/40000 [===========================>..] - ETA: 0s - loss: 0.0881 - acc: 0.9703Epoch 00021: val_acc did not improve\n",
      "40000/40000 [==============================] - 1s - loss: 0.0882 - acc: 0.9702 - val_loss: 0.4286 - val_acc: 0.8878\n",
      "Epoch 23/50\n",
      "37888/40000 [===========================>..] - ETA: 0s - loss: 0.0858 - acc: 0.9702Epoch 00022: val_acc did not improve\n",
      "40000/40000 [==============================] - 1s - loss: 0.0858 - acc: 0.9701 - val_loss: 0.4342 - val_acc: 0.8890\n",
      "Epoch 00022: early stopping\n"
     ]
    }
   ],
   "source": [
    "model.compile(optimizer='adam',\n",
    "              loss='categorical_crossentropy',\n",
    "              metrics=['acc'])\n",
    "\n",
    "history = model.fit(x_train_partial,\n",
    "                    y_train_partial,\n",
    "                    epochs=epochs,\n",
    "                    batch_size=batch_size,\n",
    "                    callbacks=callbacks_list,\n",
    "                    validation_data=(x_train_val, y_train_val))"
   ]
  },
  {
   "cell_type": "markdown",
   "metadata": {},
   "source": [
    "###### Let us plot the training and validation loss "
   ]
  },
  {
   "cell_type": "code",
   "execution_count": 160,
   "metadata": {},
   "outputs": [
    {
     "data": {
      "image/png": "[encoded data removed]",
      "text/plain": [
       "<matplotlib.figure.Figure at 0x2b6cb3d0>"
      ]
     },
     "metadata": {},
     "output_type": "display_data"
    }
   ],
   "source": [
    "import matplotlib.pyplot as plt\n",
    "\n",
    "%matplotlib inline\n",
    "\n",
    "history_dict = history.history\n",
    "loss_values = history_dict['loss']\n",
    "val_loss_values = history_dict['val_loss']\n",
    "\n",
    "epochs = range(1,len(history.epoch)+1) # creating a range object for plotting on x axis\n",
    "\n",
    "plt.plot(epochs, loss_values, 'ro', label='Training loss')           \n",
    "plt.plot(epochs, val_loss_values, 'b--', label='Validation loss')      \n",
    "plt.title('Training and validation loss')\n",
    "plt.xlabel('Epochs')\n",
    "plt.ylabel('Loss')\n",
    "plt.legend()\n",
    "\n",
    "plt.show()"
   ]
  },
  {
   "cell_type": "markdown",
   "metadata": {},
   "source": [
    "###### Let us plot the training and validation accuracy "
   ]
  },
  {
   "cell_type": "code",
   "execution_count": 161,
   "metadata": {},
   "outputs": [
    {
     "data": {
      "image/png": "[encoded data removed]",
      "text/plain": [
       "<matplotlib.figure.Figure at 0x2b58b650>"
      ]
     },
     "metadata": {},
     "output_type": "display_data"
    }
   ],
   "source": [
    "acc_values = history_dict['acc']\n",
    "val_acc_values = history_dict['val_acc']\n",
    "\n",
    "plt.plot(epochs, acc_values, 'ro', label='Training acc')\n",
    "plt.plot(epochs, val_acc_values, 'b--', label='Validation acc')\n",
    "plt.title('Training and validation accuracy')\n",
    "plt.xlabel('Epochs')\n",
    "plt.ylabel('Loss')\n",
    "plt.legend()\n",
    "\n",
    "plt.show()"
   ]
  },
  {
   "cell_type": "code",
   "execution_count": 162,
   "metadata": {},
   "outputs": [],
   "source": [
    "y_test = df_test['label']\n",
    "y_test = y_test.as_matrix()\n",
    "y_test = keras.utils.to_categorical(y_test, num_classes)"
   ]
  },
  {
   "cell_type": "code",
   "execution_count": 163,
   "metadata": {},
   "outputs": [
    {
     "name": "stdout",
     "output_type": "stream",
     "text": [
      "10000/10000 [==============================] - 0s     \n"
     ]
    },
    {
     "data": {
      "text/plain": [
       "[0.41553625984191894, 0.8905]"
      ]
     },
     "execution_count": 163,
     "metadata": {},
     "output_type": "execute_result"
    }
   ],
   "source": [
    "results = model.evaluate(x_test,y_test)\n",
    "results"
   ]
  }
 ],
 "metadata": {
  "kernelspec": {
   "display_name": "Python 2",
   "language": "python",
   "name": "python2"
  },
  "language_info": {
   "codemirror_mode": {
    "name": "ipython",
    "version": 2
   },
   "file_extension": ".py",
   "mimetype": "text/x-python",
   "name": "python",
   "nbconvert_exporter": "python",
   "pygments_lexer": "ipython2",
   "version": "2.7.5"
  }
 },
 "nbformat": 4,
 "nbformat_minor": 2
}
